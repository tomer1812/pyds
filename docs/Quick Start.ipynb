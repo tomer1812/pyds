{
 "cells": [
  {
   "cell_type": "code",
   "execution_count": null,
   "id": "d01b222e",
   "metadata": {
    "ExecuteTime": {
     "end_time": "2022-03-05T21:31:23.519015Z",
     "start_time": "2022-03-05T21:31:23.479731Z"
    }
   },
   "outputs": [],
   "source": [
    "import pandas as pd\n",
    "import os\n",
    "import matplotlib.pyplot as plt\n",
    "import numpy as np\n",
    "%matplotlib inline\n",
    "from pydts.utils import get_expanded_df\n",
    "from tqdm import tqdm\n",
    "from time import time\n",
    "from sklearn.linear_model import LogisticRegression\n",
    "from sklearn.model_selection import train_test_split\n",
    "from lifelines.fitters.coxph_fitter import CoxPHFitter\n",
    "from scipy.special import expit\n",
    "from scipy.optimize import minimize\n",
    "import sys\n",
    "sys.path.append('../')\n",
    "sys.path.append('../../')\n",
    "from examples.generate_simulations_data import generate_quick_start_df"
   ]
  },
  {
   "cell_type": "code",
   "execution_count": null,
   "id": "d9c61d4b",
   "metadata": {
    "ExecuteTime": {
     "end_time": "2022-03-05T21:31:23.865519Z",
     "start_time": "2022-03-05T21:31:23.815249Z"
    }
   },
   "outputs": [],
   "source": [
    "n_cov = 5\n",
    "patients_df = generate_quick_start_df(n_patients=10000, n_cov=n_cov, d_times=30, j_events=2, pid_col='pid', \n",
    "                                      seed=0)\n",
    "covariates = [f'Z{i + 1}' for i in range(n_cov)]\n",
    "\n",
    "train_df, test_df = train_test_split(patients_df, test_size=0.25)\n",
    "events = sorted(train_df['J'].unique())\n",
    "times = sorted(train_df['X'].unique())\n",
    "train_df.head()  "
   ]
  },
  {
   "cell_type": "markdown",
   "id": "7dd9ea0c",
   "metadata": {},
   "source": [
    "# Lee et al. 2018"
   ]
  },
  {
   "cell_type": "code",
   "execution_count": null,
   "id": "334d76eb",
   "metadata": {
    "ExecuteTime": {
     "end_time": "2022-03-05T21:31:25.466077Z",
     "start_time": "2022-03-05T21:31:25.348493Z"
    }
   },
   "outputs": [],
   "source": [
    "expanded_train_df = get_expanded_df(train_df)\n",
    "print(expanded_train_df.shape)\n",
    "expanded_train_df"
   ]
  },
  {
   "cell_type": "code",
   "execution_count": null,
   "id": "613d799f",
   "metadata": {
    "ExecuteTime": {
     "end_time": "2022-03-05T21:31:25.812923Z",
     "start_time": "2022-03-05T21:31:25.727087Z"
    }
   },
   "outputs": [],
   "source": [
    "expanded_train_df = pd.concat([expanded_train_df, \n",
    "                               pd.get_dummies(expanded_train_df['X'], prefix='alpha')], axis=1)\n",
    "expanded_train_df"
   ]
  },
  {
   "cell_type": "code",
   "execution_count": null,
   "id": "0119a12a",
   "metadata": {
    "ExecuteTime": {
     "end_time": "2022-03-05T21:31:26.116285Z",
     "start_time": "2022-03-05T21:31:26.109225Z"
    }
   },
   "outputs": [],
   "source": [
    "alpha_list = [col for col in expanded_train_df.columns if col[:5] == 'alpha']\n",
    "models = {}"
   ]
  },
  {
   "cell_type": "code",
   "execution_count": null,
   "id": "024c11cb",
   "metadata": {
    "ExecuteTime": {
     "end_time": "2022-03-05T21:31:30.164962Z",
     "start_time": "2022-03-05T21:31:26.839582Z"
    }
   },
   "outputs": [],
   "source": [
    "start = time()\n",
    "\n",
    "for e in tqdm(events[1:], total=len(events)-1):\n",
    "    model = LogisticRegression()\n",
    "    X, y =  expanded_train_df[covariates + alpha_list].values, expanded_train_df[f'j_{e}'].values\n",
    "    model.fit(X, y)\n",
    "    models[e] = model\n",
    "\n",
    "end = time()"
   ]
  },
  {
   "cell_type": "code",
   "execution_count": null,
   "id": "7a5cf006",
   "metadata": {
    "ExecuteTime": {
     "end_time": "2022-03-05T21:31:30.171140Z",
     "start_time": "2022-03-05T21:31:30.167220Z"
    }
   },
   "outputs": [],
   "source": [
    "print(f'Total training time: {end - start:.2f} seconds')"
   ]
  },
  {
   "cell_type": "code",
   "execution_count": null,
   "id": "fe5237fb",
   "metadata": {
    "ExecuteTime": {
     "end_time": "2022-03-05T21:31:30.904146Z",
     "start_time": "2022-03-05T21:31:30.173505Z"
    }
   },
   "outputs": [],
   "source": [
    "fig, axes = plt.subplots(1,2, figsize=(14,6))\n",
    "ax = axes[0]\n",
    "ax.set_title(r'$\\alpha_{jt}$', fontsize=26)\n",
    "ax.plot(models[1].coef_[0, n_cov:], label='J=1')\n",
    "ax.plot(models[2].coef_[0, n_cov:], color='g', label='J=2')\n",
    "ax.set_xlabel(r'Time', fontsize=16)\n",
    "ax.set_ylabel(r'$\\alpha_{t}$', fontsize=20)\n",
    "ax.legend(loc='upper center', fontsize=14)\n",
    "ax2 = ax.twinx()\n",
    "ax2.hist(expanded_train_df['X'], color='r', alpha=0.3, bins=times)\n",
    "ax2.set_ylabel('N patients', fontsize=16, color='red')\n",
    "ax2.tick_params(axis='y', colors='red')\n",
    "\n",
    "ax = axes[1]\n",
    "ax.set_title(r'$\\beta_{j}$', fontsize=26)\n",
    "ax.bar(np.arange(1, n_cov+1), models[1].coef_[0, :n_cov], label='J=1', width=0.5)\n",
    "ax.bar(np.arange(1, n_cov+1), models[2].coef_[0, :n_cov], color='g', label='J=2', align='edge', width=0.5)\n",
    "ax.legend(loc='lower center', fontsize=14)\n",
    "\n",
    "fig.tight_layout()"
   ]
  },
  {
   "cell_type": "code",
   "execution_count": null,
   "id": "f00e23f7",
   "metadata": {
    "ExecuteTime": {
     "end_time": "2022-03-05T21:31:30.908617Z",
     "start_time": "2022-03-05T21:31:30.906650Z"
    }
   },
   "outputs": [],
   "source": [
    "# test mse"
   ]
  },
  {
   "cell_type": "markdown",
   "id": "24661096",
   "metadata": {},
   "source": [
    "# New approach"
   ]
  },
  {
   "cell_type": "code",
   "execution_count": null,
   "id": "8df9fa60",
   "metadata": {
    "ExecuteTime": {
     "end_time": "2022-03-05T21:31:34.003551Z",
     "start_time": "2022-03-05T21:31:30.909969Z"
    }
   },
   "outputs": [],
   "source": [
    "beta_models = {}\n",
    "\n",
    "for e in events[1:]:\n",
    "    strata_df = expanded_train_df[covariates + [f'j_{e}', 'X']].copy()\n",
    "    strata_df['X_copy'] = expanded_train_df['X']\n",
    "\n",
    "    beta_j_cox = CoxPHFitter()\n",
    "    beta_j_cox.fit(df=strata_df[covariates+ ['X', 'X_copy', f'j_{e}']], duration_col='X', event_col=f'j_{e}', \n",
    "                   strata='X_copy')\n",
    "    beta_models[e] = beta_j_cox\n",
    "    print(beta_j_cox.params_)"
   ]
  },
  {
   "cell_type": "markdown",
   "id": "b9fd986a",
   "metadata": {},
   "source": [
    "Going back to the unexpanded data: "
   ]
  },
  {
   "cell_type": "code",
   "execution_count": null,
   "id": "9baa3caa",
   "metadata": {
    "ExecuteTime": {
     "end_time": "2022-03-05T21:31:34.037403Z",
     "start_time": "2022-03-05T21:31:34.005852Z"
    }
   },
   "outputs": [],
   "source": [
    "train_df.head()"
   ]
  },
  {
   "cell_type": "code",
   "execution_count": null,
   "id": "163741af",
   "metadata": {
    "ExecuteTime": {
     "end_time": "2022-03-05T21:31:34.048998Z",
     "start_time": "2022-03-05T21:31:34.040767Z"
    }
   },
   "outputs": [],
   "source": [
    "y_t = len(train_df['X']) - train_df['X'].value_counts().sort_index().cumsum()\n",
    "y_t.head()"
   ]
  },
  {
   "cell_type": "code",
   "execution_count": null,
   "id": "7b11f775",
   "metadata": {
    "ExecuteTime": {
     "end_time": "2022-03-05T21:31:34.063699Z",
     "start_time": "2022-03-05T21:31:34.051496Z"
    }
   },
   "outputs": [],
   "source": [
    "n_jt = train_df.groupby(['J', 'X']).size().to_frame().reset_index()\n",
    "n_jt.columns = ['J', 'X' ,'n_jt']\n",
    "n_jt.head()"
   ]
  },
  {
   "cell_type": "code",
   "execution_count": null,
   "id": "b99866a4",
   "metadata": {
    "ExecuteTime": {
     "end_time": "2022-03-05T21:31:34.068588Z",
     "start_time": "2022-03-05T21:31:34.065412Z"
    }
   },
   "outputs": [],
   "source": [
    "def alpha_jt(x, df, y_t, beta_j, n_jt, t, duration_col='X' ):\n",
    "    partial_df = df[df[duration_col] >= t]\n",
    "    expit_add = (partial_df[covariates]*beta_j).sum(axis=1)\n",
    "    return ((1/y_t)*np.sum(expit(x+expit_add)) - (n_jt/y_t))**2"
   ]
  },
  {
   "cell_type": "code",
   "execution_count": null,
   "id": "9ccc32fa",
   "metadata": {
    "ExecuteTime": {
     "end_time": "2022-03-05T21:31:34.072730Z",
     "start_time": "2022-03-05T21:31:34.070169Z"
    }
   },
   "outputs": [],
   "source": [
    "x0 = 0"
   ]
  },
  {
   "cell_type": "code",
   "execution_count": null,
   "id": "d679be35",
   "metadata": {
    "ExecuteTime": {
     "end_time": "2022-03-05T21:31:34.798104Z",
     "start_time": "2022-03-05T21:31:34.074332Z"
    }
   },
   "outputs": [],
   "source": [
    "alpha_df = pd.DataFrame()\n",
    "for e in events[1:]:\n",
    "    n_et = n_jt[n_jt['J'] == e]\n",
    "    n_et['opt_res'] = n_et.apply(lambda row: minimize(alpha_jt, x0, \n",
    "        args=(train_df, y_t.loc[row['X']], beta_models[e].params_,  row['n_jt'],  row['X'])), axis=1)\n",
    "    n_et['success'] = n_et['opt_res'].apply(lambda val: val.success)\n",
    "    n_et['alpha_jt'] = n_et['opt_res'].apply(lambda val: val.x[0])\n",
    "    alpha_df = alpha_df.append(n_et, ignore_index=True)\n",
    "alpha_df"
   ]
  },
  {
   "cell_type": "code",
   "execution_count": null,
   "id": "d3c92db3",
   "metadata": {},
   "outputs": [],
   "source": []
  }
 ],
 "metadata": {
  "kernelspec": {
   "display_name": "Python 3 (ipykernel)",
   "language": "python",
   "name": "python3"
  },
  "language_info": {
   "codemirror_mode": {
    "name": "ipython",
    "version": 3
   },
   "file_extension": ".py",
   "mimetype": "text/x-python",
   "name": "python",
   "nbconvert_exporter": "python",
   "pygments_lexer": "ipython3",
   "version": "3.8.2"
  }
 },
 "nbformat": 4,
 "nbformat_minor": 5
}
