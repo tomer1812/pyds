{
 "cells": [
  {
   "cell_type": "code",
   "execution_count": null,
   "id": "ee1b61c5",
   "metadata": {
    "ExecuteTime": {
     "end_time": "2022-05-18T19:07:03.674581Z",
     "start_time": "2022-05-18T19:03:12.578523Z"
    },
    "scrolled": false
   },
   "outputs": [],
   "source": [
    "import pandas as pd\n",
    "import numpy as np\n",
    "from sklearn.model_selection import train_test_split\n",
    "from pydts.examples_utils.generate_simulations_data import generate_quick_start_df\n",
    "\n",
    "# Data Generation\n",
    "real_coef_dict = {\n",
    "    \"alpha\": {\n",
    "        1: lambda t: -1 - 0.3 * np.log(t),\n",
    "        2: lambda t: -1.75 - 0.15 * np.log(t)},\n",
    "    \"beta\": {\n",
    "        1: -np.log([0.8, 3, 3, 2.5, 2]),\n",
    "        2: -np.log([1, 3, 4, 3, 2])}}\n",
    "\n",
    "patients_df = generate_quick_start_df(n_patients=50000, n_cov=5, d_times=30, j_events=2, pid_col='pid', \n",
    "                                      seed=0, censoring_prob=0.8, real_coef_dict=real_coef_dict)\n",
    "\n",
    "train_df, test_df = train_test_split(patients_df, test_size=0.2)\n",
    "\n",
    "# DataExpansionFitter Usage\n",
    "from pydts.fitters import DataExpansionFitter\n",
    "fitter = DataExpansionFitter()\n",
    "fitter.fit(df=train_df.drop(['C', 'T'], axis=1))\n",
    "\n",
    "pred_df = fitter.predict_cumulative_incident_function(test_df.drop(['J', 'T', 'C', 'X'], axis=1))\n",
    "\n",
    "# TwoStagesFitter Usage\n",
    "from pydts.fitters import TwoStagesFitter\n",
    "new_fitter = TwoStagesFitter()\n",
    "new_fitter.fit(df=train_df.drop(['C', 'T'], axis=1))\n",
    "\n",
    "pred_df = fitter.predict_cumulative_incident_function(test_df.drop(['J', 'T', 'C', 'X'], axis=1))\n",
    "\n",
    "# Training with Regularization\n",
    "L1_regularized_fitter = TwoStagesFitter()\n",
    "fit_beta_kwargs = {'model_kwargs': {'penalizer': 0.003, 'l1_ratio': 1}}\n",
    "L1_regularized_fitter.fit(df=train_df.drop(['C', 'T'], axis=1), fit_beta_kwargs=fit_beta_kwargs)\n",
    "\n",
    "L2_regularized_fitter = TwoStagesFitter()\n",
    "fit_beta_kwargs = {'model_kwargs': {'penalizer': 0.003, 'l1_ratio': 0}}\n",
    "L2_regularized_fitter.fit(df=train_df.drop(['C', 'T'], axis=1), fit_beta_kwargs=fit_beta_kwargs)\n",
    "\n",
    "EN_regularized_fitter = TwoStagesFitter()\n",
    "fit_beta_kwargs = {'model_kwargs': {'penalizer': 0.003, 'l1_ratio': 0.5}}\n",
    "EN_regularized_fitter.fit(df=train_df.drop(['C', 'T'], axis=1), fit_beta_kwargs=fit_beta_kwargs)"
   ]
  },
  {
   "cell_type": "code",
   "execution_count": null,
   "id": "b05f4b71",
   "metadata": {},
   "outputs": [],
   "source": []
  }
 ],
 "metadata": {
  "kernelspec": {
   "display_name": "Python 3 (ipykernel)",
   "language": "python",
   "name": "python3"
  },
  "language_info": {
   "codemirror_mode": {
    "name": "ipython",
    "version": 3
   },
   "file_extension": ".py",
   "mimetype": "text/x-python",
   "name": "python",
   "nbconvert_exporter": "python",
   "pygments_lexer": "ipython3",
   "version": "3.8.2"
  }
 },
 "nbformat": 4,
 "nbformat_minor": 5
}
